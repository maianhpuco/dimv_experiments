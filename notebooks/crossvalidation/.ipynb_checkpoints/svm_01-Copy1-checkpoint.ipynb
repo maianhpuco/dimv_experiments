{
 "cells": [
  {
   "cell_type": "code",
   "execution_count": null,
   "id": "81564f1f",
   "metadata": {},
   "outputs": [],
   "source": [
    "import os\n",
    "import sys  \n",
    "import pandas as pd \n",
    "import numpy as np \n",
    "import time\n",
    "\n",
    "from sklearn import svm \n",
    "from sklearn.model_selection import cross_val_score \n",
    "from sklearn.model_selection import KFold\n",
    "from sklearn.model_selection import GridSearchCV\n",
    "from sklearn.pipeline import Pipeline\n",
    "from sklearn import metrics\n",
    "from os.path  import join \n",
    "from array import array \n"
   ]
  },
  {
   "cell_type": "code",
   "execution_count": null,
   "id": "704748fb",
   "metadata": {},
   "outputs": [],
   "source": [
    "os.listdir(join(input_path))"
   ]
  },
  {
   "cell_type": "code",
   "execution_count": null,
   "id": "5a9acf54",
   "metadata": {},
   "outputs": [],
   "source": [
    "input_path =\"../../data/mnist/raw\" \n",
    "training_images_filepath = join(input_path, 'train-images-idx3-ubyte')\n",
    "training_labels_filepath = join(input_path, 'train-labels-idx1-ubyte')\n",
    "test_images_filepath = join(input_path, 't10k-images-idx3-ubyte')\n",
    "test_labels_filepath = join(input_path, 't10k-labels-idx1-ubyte') "
   ]
  },
  {
   "cell_type": "code",
   "execution_count": null,
   "id": "1e29a0c4",
   "metadata": {},
   "outputs": [],
   "source": [
    "def read_images_labels(images_filepath, labels_filepath):        \n",
    "        labels = []\n",
    "        with open(labels_filepath, 'rb') as file:\n",
    "            magic, size = struct.unpack(\">II\", file.read(8))\n",
    "            if magic != 2049:\n",
    "                raise ValueError('Magic number mismatch, expected 2049, got {}'.format(magic))\n",
    "            labels = array(\"B\", file.read())        \n",
    "        \n",
    "        with open(images_filepath, 'rb') as file:\n",
    "            magic, size, rows, cols = struct.unpack(\">IIII\", file.read(16))\n",
    "            if magic != 2051:\n",
    "                raise ValueError('Magic number mismatch, expected 2051, got {}'.format(magic))\n",
    "            image_data = array(\"B\", file.read())        \n",
    "        images = []\n",
    "        for i in range(size):\n",
    "            images.append([0] * rows * cols)\n",
    "        for i in range(size):\n",
    "            img = np.array(image_data[i * rows * cols:(i + 1) * rows * cols])\n",
    "            img = img.reshape(28, 28)\n",
    "            images[i][:] = img            \n",
    "        \n",
    "        return images, labels "
   ]
  },
  {
   "cell_type": "code",
   "execution_count": null,
   "id": "aa9d7bfd",
   "metadata": {},
   "outputs": [],
   "source": [
    "X_train, y_train = read_images_labels(training_images_filepath, training_labels_filepath) \n",
    "X_test, y_test = read_images_labels(test_images_filepath, test_labels_filepath)  "
   ]
  },
  {
   "cell_type": "code",
   "execution_count": null,
   "id": "65ca5826",
   "metadata": {},
   "outputs": [],
   "source": [
    "folds = KFold(n_splits = 5, shuffle = True, random_state = 1)\n",
    "hyper_params = [ {'gamma': [1e-2, 1e-3, 1e-4],\n",
    "                     'C': [5,10,15]}]\n",
    "\n",
    "start = time.time() \n",
    "model = svm.SVC(kernel=\"rbf\")\n",
    "# set up GridSearchCV()\n",
    "model_cv = GridSearchCV(estimator = model, \n",
    "                        param_grid = hyper_params, \n",
    "                        scoring= 'accuracy', \n",
    "                        cv = folds, \n",
    "                        n_jobs = -1, \n",
    "                        return_train_score=True, \n",
    "                        verbose=10)      \n",
    "\n",
    "# fit the model\n",
    "model_cv.fit(X_train, y_train) \n",
    "print(\"time in minutes is: \", (time.time()-start)/60)  \n",
    "\n",
    "best_score = model_cv.best_score_\n",
    "best_hyperparams = model_cv.best_params_\n",
    " "
   ]
  },
  {
   "cell_type": "code",
   "execution_count": null,
   "id": "43a5aeb2",
   "metadata": {},
   "outputs": [],
   "source": []
  },
  {
   "cell_type": "code",
   "execution_count": null,
   "id": "4b0ffbfa",
   "metadata": {},
   "outputs": [],
   "source": [
    "raw_path =\"../../data/mnist/raw\"\n",
    "print(os.listdir(raw_path))"
   ]
  },
  {
   "cell_type": "code",
   "execution_count": null,
   "id": "1a29c109",
   "metadata": {},
   "outputs": [],
   "source": [
    "root = \"../../data/mnist/imputed\"\n",
    "experiment_settings = os.listdir(root)"
   ]
  },
  {
   "cell_type": "code",
   "execution_count": null,
   "id": "6c5baf69",
   "metadata": {},
   "outputs": [],
   "source": [
    "for exp in experiment_settings:\n",
    "    print(exp)"
   ]
  },
  {
   "cell_type": "code",
   "execution_count": null,
   "id": "a499aaf1",
   "metadata": {},
   "outputs": [],
   "source": [
    "os.listdir(os.path.join(root,experiment_settings[0]))"
   ]
  },
  {
   "cell_type": "code",
   "execution_count": null,
   "id": "35167dd9",
   "metadata": {},
   "outputs": [],
   "source": [
    "def svm_pipeline():\n",
    "    sub_folder = 'threshold_50_deletedWidthHeightPc_4040_noImagePc_50'\n"
   ]
  },
  {
   "cell_type": "code",
   "execution_count": null,
   "id": "42ec1435",
   "metadata": {},
   "outputs": [],
   "source": [
    "sub_folder = 'threshold_50_deletedWidthHeightPc_4040_noImagePc_50'\n",
    "path = os.path.join(root+\"/\"+sub_folder+'/')\n",
    "\n",
    "get_Xpath = lambda train_test, algo: os.path.join(path+'{}_{}.csv'.format(train_test, algo))\n",
    "get_ypath = lambda train_test: os.path.join(path+'y_{}.csv'.format(train_test))\n",
    "\n",
    "softImpute_Xtrain_path = get_Xpath('train','softImpute')\n",
    "softImpute_Xtest_path = get_Xpath('train','softImpute')\n",
    "softImpute_ytrain_path = get_ypath('test')\n",
    "softImpute_ytest_path = get_ypath('test')\n",
    "\n",
    "impDi_Xtrain_path = get_Xpath('train','impDi') \n",
    "impDi_Xtest_path = get_Xpath('test','impDi') \n",
    "impDi_ytrain_path = get_ypath('train')\n",
    "impDi_ytest_path = get_ypath('test')\n",
    "\n",
    "\n",
    "start_reading = time.time()\n",
    "softImpute_Xtrain = pd.read_csv(softImpute_Xtrain_path)\n",
    "softImpute_ytrain = pd.read_csv(softImpute_ytrain_path)\n",
    "softImpute_Xtest = pd.read_csv(softImpute_Xtest_path)\n",
    "softImpute_ytest = pd.read_csv(softImpute_ytest_path)\n",
    "\n",
    "impDi_Xtrain = pd.read_csv(impDi_Xtrain_path)\n",
    "impDi_ytrain = pd.read_csv(impDi_ytrain_path)\n",
    "impDi_Xtest = pd.read_csv(impDi_Xtest_path)\n",
    "impDi_ytest = pd.read_csv(impDi_ytest_path)  \n",
    "\n",
    "print(\"complete reading imputed file after: {} second\".format(time.time()-start_reading))  "
   ]
  },
  {
   "cell_type": "code",
   "execution_count": null,
   "id": "6762ba46",
   "metadata": {},
   "outputs": [],
   "source": [
    "# start_reading = time.time()\n",
    "# softImpute_Xtrain = pd.read_csv(softImpute_Xtrain_path)\n",
    "# softImpute_ytrain = pd.read_csv(softImpute_ytrain_path)\n",
    "# softImpute_Xtest = pd.read_csv(softImpute_Xtest_path)\n",
    "# softImpute_ytest = pd.read_csv(softImpute_ytest_path)\n",
    "\n",
    "# impDi_Xtrain = pd.read_csv(impDi_Xtrain_path)\n",
    "# impDi_ytrain = pd.read_csv(impDi_ytrain_path)\n",
    "# impDi_Xtest = pd.read_csv(impDi_Xtest_path)\n",
    "# impDi_ytest = pd.read_csv(impDi_ytest_path)  \n",
    "\n",
    "# print(\"complete reading imputed file after: {} second\".format(time.time()-start_reading))  "
   ]
  },
  {
   "cell_type": "code",
   "execution_count": null,
   "id": "55b2e549",
   "metadata": {},
   "outputs": [],
   "source": [
    "\n"
   ]
  },
  {
   "cell_type": "code",
   "execution_count": null,
   "id": "bca54400",
   "metadata": {},
   "outputs": [],
   "source": [
    "#find hyperparams \n",
    "\n",
    "X_train = softImpute_Xtrain\n",
    "y_train = softImpute_ytrain.values.ravel()\n",
    "\n",
    "folds = KFold(n_splits = 5, shuffle = True, random_state = 1)\n",
    "hyper_params = [ {'gamma': [1e-3, 1e-4],\n",
    "                     'C': [5,10]}]\n",
    "\n",
    "start = time.time() \n",
    "model = svm.SVC(kernel=\"rbf\")\n",
    "# set up GridSearchCV()\n",
    "model_cv = GridSearchCV(estimator = model, \n",
    "                        param_grid = hyper_params, \n",
    "                        scoring= 'accuracy', \n",
    "                        cv = folds, \n",
    "                        n_jobs = -1, \n",
    "                        return_train_score=True, \n",
    "                        verbose=10)      \n",
    "\n",
    "# fit the model\n",
    "model_cv.fit(X_train, y_train) \n",
    "print(\"time in minutes is: \", (time.time()-start)/60) "
   ]
  },
  {
   "cell_type": "code",
   "execution_count": null,
   "id": "ba05b175",
   "metadata": {},
   "outputs": [],
   "source": [
    "best_hyperparams = model_cv.best_params_ \n",
    "best_hyperparams"
   ]
  },
  {
   "cell_type": "code",
   "execution_count": null,
   "id": "1f77acc7",
   "metadata": {},
   "outputs": [],
   "source": [
    "best_score = model_cv.best_score_\n",
    "best_hyperparams = model_cv.best_params_\n",
    "\n",
    "print(\"The best test score is {0} corresponding to hyperparameters {1}\".format(best_score, best_hyperparams)) "
   ]
  },
  {
   "cell_type": "code",
   "execution_count": null,
   "id": "0ee08a45",
   "metadata": {},
   "outputs": [],
   "source": [
    "best_hyperparams ={'C': 10, 'gamma': 0.001} "
   ]
  },
  {
   "cell_type": "code",
   "execution_count": null,
   "id": "99f358bc",
   "metadata": {},
   "outputs": [],
   "source": [
    "scores = cross_val_score(model, X_train, y_train, cv=5, n_jobs=-1, verbose=10) \n",
    "print(scores)"
   ]
  },
  {
   "cell_type": "code",
   "execution_count": null,
   "id": "313c095d",
   "metadata": {},
   "outputs": [],
   "source": [
    "np.mean(scores)"
   ]
  },
  {
   "cell_type": "code",
   "execution_count": null,
   "id": "912c4815",
   "metadata": {},
   "outputs": [],
   "source": [
    "np.std(scores)"
   ]
  },
  {
   "cell_type": "code",
   "execution_count": null,
   "id": "c35b7228",
   "metadata": {},
   "outputs": [],
   "source": [
    "start_prediction = time.time()\n",
    " \n",
    "X_train = impDi_Xtrain\n",
    "y_train = impDi_ytrain.values.ravel() \n",
    "\n",
    "X_test = impDi_Xtest\n",
    "y_test = impDi_ytest.values.ravel()  \n",
    "\n",
    "model = svm.SVC(**best_hyperparams)\n",
    "model.fit(X_train, y_train) \n",
    "y_pred = model.predict(X_test)\n",
    "acc = metrics.accuracy_score(y_test, y_pred) \n",
    "print(\"fitting time: {} mins\".format((time.time() - start_prediction)/60))  "
   ]
  },
  {
   "cell_type": "code",
   "execution_count": null,
   "id": "bbf3ffd7",
   "metadata": {},
   "outputs": [],
   "source": [
    "X_test.shape"
   ]
  },
  {
   "cell_type": "code",
   "execution_count": null,
   "id": "ca1f4d1f",
   "metadata": {},
   "outputs": [],
   "source": []
  },
  {
   "cell_type": "code",
   "execution_count": null,
   "id": "2667efd7",
   "metadata": {},
   "outputs": [],
   "source": [
    "print(metrics.accuracy_score(y_test, y_pred))"
   ]
  },
  {
   "cell_type": "code",
   "execution_count": null,
   "id": "0110a35e",
   "metadata": {},
   "outputs": [],
   "source": [
    "# ver cũ "
   ]
  },
  {
   "cell_type": "code",
   "execution_count": null,
   "id": "9eaac4d2",
   "metadata": {},
   "outputs": [],
   "source": []
  }
 ],
 "metadata": {
  "kernelspec": {
   "display_name": "Python 3 (ipykernel)",
   "language": "python",
   "name": "python3"
  },
  "language_info": {
   "codemirror_mode": {
    "name": "ipython",
    "version": 3
   },
   "file_extension": ".py",
   "mimetype": "text/x-python",
   "name": "python",
   "nbconvert_exporter": "python",
   "pygments_lexer": "ipython3",
   "version": "3.9.12"
  }
 },
 "nbformat": 4,
 "nbformat_minor": 5
}
