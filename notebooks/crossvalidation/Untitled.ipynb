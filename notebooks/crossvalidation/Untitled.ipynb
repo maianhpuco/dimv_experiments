{
 "cells": [
  {
   "cell_type": "code",
   "execution_count": 1,
   "id": "df478716",
   "metadata": {},
   "outputs": [],
   "source": [
    "import os\n",
    "import sys  \n",
    "import pandas as pd \n",
    "import numpy as np \n",
    "import time\n",
    "import json \n",
    "\n",
    "from sklearn import svm \n",
    "from sklearn.model_selection import cross_val_score \n",
    "from sklearn.model_selection import KFold\n",
    "from sklearn.model_selection import GridSearchCV\n",
    "from sklearn.pipeline import Pipeline\n",
    "from sklearn import metrics\n",
    "  \n",
    "HYPERPARAMS = {'C': 5, 'gamma': 0.01}  \n",
    "\n",
    "def svm_prediction(X_train, y_train, X_test, y_test):\n",
    "    print(\"start prediction\")\n",
    "    model = svm.SVC(**HYPERPARAMS)\n",
    "    model.fit(X_train, y_train)\n",
    "    y_pred = model.predict(X_test)\n",
    "    print(\"done prediction\")\n",
    "    return y_pred \n",
    "\n",
    "def svm_prediction_pipeline(root, sub_folder):\n",
    "    path = os.path.join(root+\"imputed/\"+sub_folder+'/')\n",
    "    print(\"start reading data at path\", path)\n",
    "\n",
    "    get_Xpath = lambda train_test, algo: os.path.join(path+'{}_{}.csv'.format(train_test, algo))\n",
    "    get_ypath = lambda train_test: os.path.join(path+'y_{}.csv'.format(train_test))\n",
    "\n",
    "    softImpute_Xtrain_path = get_Xpath('train','softImpute')\n",
    "    softImpute_Xtest_path = get_Xpath('train','softImpute')\n",
    "    softImpute_ytrain_path = get_ypath('train')\n",
    "    softImpute_ytest_path = get_ypath('test')\n",
    "\n",
    "    impDi_Xtrain_path = get_Xpath('train','impDi') \n",
    "    impDi_Xtest_path = get_Xpath('train','impDi') \n",
    "    impDi_ytrain_path = get_ypath('train')\n",
    "    impDi_ytest_path = get_ypath('test')\n",
    "\n",
    "    start_reading = time.time()\n",
    "    softImpute_Xtrain = pd.read_csv(softImpute_Xtrain_path)\n",
    "    softImpute_ytrain = pd.read_csv(softImpute_ytrain_path)\n",
    "    softImpute_Xtest = pd.read_csv(softImpute_Xtest_path)\n",
    "    softImpute_ytest = pd.read_csv(softImpute_ytest_path)\n",
    "    \n",
    "    impDi_Xtrain = pd.read_csv(impDi_Xtrain_path)\n",
    "    impDi_ytrain = pd.read_csv(impDi_ytrain_path)\n",
    "    impDi_Xtest = pd.read_csv(impDi_Xtest_path)\n",
    "    impDi_ytest = pd.read_csv(impDi_ytest_path)  \n",
    "\n",
    "    softImpute_ytrain = softImpute_ytrain.values.ravel()\n",
    "    softImpute_ytest = softImpute_ytest.values.ravel()\n",
    "    impDi_ytrain = impDi_ytrain.values.ravel()\n",
    "    impDi_ytest = impDi_ytest.values.ravel()\n",
    "    print(softImpute_Xtrain.shape)\n",
    "    print(softImpute_ytrain.shape)\n",
    "    print(\"complete reading data in subfoler {} \\n  after: {} second\".format(\n",
    "        sub_folder, \n",
    "        time.time()-start_reading)\n",
    "    )\n",
    "\n",
    "    # prediction \n",
    "    pred_file_path = lambda algo: os.path.join(root +'prediction_output/', sub_folder,'/',\"\".join([algo, '.csv']))\n",
    "    acc_file_path = os.path.join(root +'accuracy/', ''.join([sub_folder, '.json']))\n",
    "    print(pred_file_path(\"softImpute\"))\n",
    "    print(acc_file_path)\n",
    "\n",
    "    \n",
    "    start_prediction = time.time()\n",
    "    softImpute_ypred = svm_prediction(\n",
    "             softImpute_Xtrain, \n",
    "             softImpute_ytrain, \n",
    "             softImpute_Xtest, \n",
    "             softImpute_ytest\n",
    "            )\n",
    "    print(\"done prediction, start save \")\n",
    "    softImpute_ypred.to_csv(prediction_path('softImpute'))\n",
    "    softImputeAccuracy = metrics.accuracy_score(softImpute_ytest, softImpute_ypred)\n",
    "    print(\"SoftImpute Predition Time {} mins\".format((time.time()-start_prediction)/60))\n",
    "\n",
    "    start_prediction = time.time()\n",
    "    impDi_ypred = svm_prediction(\n",
    "             impDi_Xtrain, \n",
    "             impDi_ytrain, \n",
    "             impDi_Xtest, \n",
    "             impDi_ytest\n",
    "            )\n",
    "    \n",
    "    impDi_ypred.to_csv(prediction_path('impDi'))\n",
    "    impDiAccuracy = metrics.accuracy_score(impDi_ytest, impDi_ypred)\n",
    "\n",
    "    print(\"Predition Time {} mins\".format((time.time()-start_prediction)/60))\n",
    "\n",
    "    acc = {\n",
    "            sub_folder: {\n",
    "                \"softImpute\": softImputeAccuracy, \n",
    "                \"impDi\" : impDiAccuracy\n",
    "            }\n",
    "        }\n",
    "\n",
    "    print(\"acc\", acc)\n",
    "    with open(acc_file_path,'w') as f:\n",
    "        json.dump(acc, f)\n",
    "\n",
    "    return acc\n",
    "\n",
    "  "
   ]
  },
  {
   "cell_type": "code",
   "execution_count": 2,
   "id": "31ebf275",
   "metadata": {},
   "outputs": [
    {
     "name": "stdout",
     "output_type": "stream",
     "text": [
      "['threshold_50_deletedWidthHeightPc_4040_noImagePc_50', 'threshold_50_deletedWidthHeightPc_8080_noImagePc_50', 'threshold_50_deletedWidthHeightPc_6060_noImagePc_50', 'threshold_30_deletedWidthHeightPc_4040_noImagePc_20', 'threshold_30_deletedWidthHeightPc_8080_noImagePc_20', 'threshold_30_deletedWidthHeightPc_6060_noImagePc_20', 'threshold_30_deletedWidthHeightPc_4040_noImagePc_50', 'threshold_30_deletedWidthHeightPc_8080_noImagePc_50', 'threshold_30_deletedWidthHeightPc_6060_noImagePc_50', 'threshold_50_deletedWidthHeightPc_4040_noImagePc_20', 'threshold_50_deletedWidthHeightPc_8080_noImagePc_20', 'threshold_50_deletedWidthHeightPc_6060_noImagePc_20']\n",
      "start reading data at path ../../data/mnist/imputed/threshold_50_deletedWidthHeightPc_4040_noImagePc_50/\n",
      "(60000, 784)\n",
      "(60000,)\n",
      "complete reading data in subfoler threshold_50_deletedWidthHeightPc_4040_noImagePc_50 \n",
      "  after: 22.659607887268066 second\n",
      "/softImpute.csv\n",
      "../../data/mnist/accuracy/threshold_50_deletedWidthHeightPc_4040_noImagePc_50.json\n",
      "start prediction\n",
      "done prediction\n",
      "done prediction, start save \n"
     ]
    },
    {
     "ename": "AttributeError",
     "evalue": "'numpy.ndarray' object has no attribute 'to_csv'",
     "output_type": "error",
     "traceback": [
      "\u001b[0;31m---------------------------------------------------------------------------\u001b[0m",
      "\u001b[0;31mAttributeError\u001b[0m                            Traceback (most recent call last)",
      "Input \u001b[0;32mIn [2]\u001b[0m, in \u001b[0;36m<cell line: 6>\u001b[0;34m()\u001b[0m\n\u001b[1;32m      4\u001b[0m sub_folders \u001b[38;5;241m=\u001b[39m os\u001b[38;5;241m.\u001b[39mlistdir(os\u001b[38;5;241m.\u001b[39mpath\u001b[38;5;241m.\u001b[39mjoin(root, \u001b[38;5;124m'\u001b[39m\u001b[38;5;124mimputed/\u001b[39m\u001b[38;5;124m'\u001b[39m))\n\u001b[1;32m      5\u001b[0m \u001b[38;5;28mprint\u001b[39m(sub_folders)\n\u001b[0;32m----> 6\u001b[0m acc \u001b[38;5;241m=\u001b[39m \u001b[43msvm_prediction_pipeline\u001b[49m\u001b[43m(\u001b[49m\u001b[43mroot\u001b[49m\u001b[43m,\u001b[49m\u001b[43m \u001b[49m\u001b[43msub_folders\u001b[49m\u001b[43m[\u001b[49m\u001b[38;5;241;43m0\u001b[39;49m\u001b[43m]\u001b[49m\u001b[43m)\u001b[49m\n",
      "Input \u001b[0;32mIn [1]\u001b[0m, in \u001b[0;36msvm_prediction_pipeline\u001b[0;34m(root, sub_folder)\u001b[0m\n\u001b[1;32m     72\u001b[0m softImpute_ypred \u001b[38;5;241m=\u001b[39m svm_prediction(\n\u001b[1;32m     73\u001b[0m          softImpute_Xtrain, \n\u001b[1;32m     74\u001b[0m          softImpute_ytrain, \n\u001b[1;32m     75\u001b[0m          softImpute_Xtest, \n\u001b[1;32m     76\u001b[0m          softImpute_ytest\n\u001b[1;32m     77\u001b[0m         )\n\u001b[1;32m     78\u001b[0m \u001b[38;5;28mprint\u001b[39m(\u001b[38;5;124m\"\u001b[39m\u001b[38;5;124mdone prediction, start save \u001b[39m\u001b[38;5;124m\"\u001b[39m)\n\u001b[0;32m---> 79\u001b[0m \u001b[43msoftImpute_ypred\u001b[49m\u001b[38;5;241;43m.\u001b[39;49m\u001b[43mto_csv\u001b[49m(prediction_path(\u001b[38;5;124m'\u001b[39m\u001b[38;5;124msoftImpute\u001b[39m\u001b[38;5;124m'\u001b[39m))\n\u001b[1;32m     80\u001b[0m softImputeAccuracy \u001b[38;5;241m=\u001b[39m metrics\u001b[38;5;241m.\u001b[39maccuracy_score(softImpute_ytest, softImpute_ypred)\n\u001b[1;32m     81\u001b[0m \u001b[38;5;28mprint\u001b[39m(\u001b[38;5;124m\"\u001b[39m\u001b[38;5;124mSoftImpute Predition Time \u001b[39m\u001b[38;5;132;01m{}\u001b[39;00m\u001b[38;5;124m mins\u001b[39m\u001b[38;5;124m\"\u001b[39m\u001b[38;5;241m.\u001b[39mformat((time\u001b[38;5;241m.\u001b[39mtime()\u001b[38;5;241m-\u001b[39mstart_prediction)\u001b[38;5;241m/\u001b[39m\u001b[38;5;241m60\u001b[39m))\n",
      "\u001b[0;31mAttributeError\u001b[0m: 'numpy.ndarray' object has no attribute 'to_csv'"
     ]
    }
   ],
   "source": [
    "\n",
    "root = '../../data/mnist/'\n",
    "accuracies = {}\n",
    "acc_path = '../../data/mnist/accuracy/v1.json'\n",
    "sub_folders = os.listdir(os.path.join(root, 'imputed/'))\n",
    "print(sub_folders)\n",
    "acc = svm_prediction_pipeline(root, sub_folders[0]) \n",
    "# for sub_folder in sub_folders:\n",
    "#     acc = svm_prediction_pipeline(root, sub_folder)\n",
    "#     accuracies.update(acc)\n",
    "\n",
    "# with open(acc_path,'w') as f:\n",
    "#     json.dump(accuracies, f)\n",
    "\n",
    "# print(accuracies)\n"
   ]
  },
  {
   "cell_type": "code",
   "execution_count": 3,
   "id": "7279a1a8",
   "metadata": {},
   "outputs": [
    {
     "ename": "NameError",
     "evalue": "name 'start_prediction' is not defined",
     "output_type": "error",
     "traceback": [
      "\u001b[0;31m---------------------------------------------------------------------------\u001b[0m",
      "\u001b[0;31mNameError\u001b[0m                                 Traceback (most recent call last)",
      "Input \u001b[0;32mIn [3]\u001b[0m, in \u001b[0;36m<cell line: 1>\u001b[0;34m()\u001b[0m\n\u001b[0;32m----> 1\u001b[0m time\u001b[38;5;241m.\u001b[39mtime()\u001b[38;5;241m-\u001b[39m\u001b[43mstart_prediction\u001b[49m\n",
      "\u001b[0;31mNameError\u001b[0m: name 'start_prediction' is not defined"
     ]
    }
   ],
   "source": [
    "time.time()-start_prediction"
   ]
  },
  {
   "cell_type": "code",
   "execution_count": 9,
   "id": "828a5173",
   "metadata": {},
   "outputs": [],
   "source": [
    "df = pd.DataFrame(np.array([123]), columns=[\"test\"])\n",
    "df.to_csv(\"test\") "
   ]
  },
  {
   "cell_type": "code",
   "execution_count": 16,
   "id": "29df6716",
   "metadata": {},
   "outputs": [
    {
     "name": "stdout",
     "output_type": "stream",
     "text": [
      "acc {'abc': {'softImpute': 10, 'impDi': 12}}\n"
     ]
    }
   ],
   "source": [
    "    acc = {\n",
    "            'abc': {\n",
    "                \"softImpute\": 10, \n",
    "                \"impDi\" : 12\n",
    "            }\n",
    "        }\n",
    "\n",
    "    print(\"acc\", acc)\n",
    "    with open(\"../acc.json\",'w+') as f:\n",
    "        json.dump(acc, f)\n",
    " "
   ]
  },
  {
   "cell_type": "code",
   "execution_count": null,
   "id": "b57e38b2",
   "metadata": {},
   "outputs": [],
   "source": []
  }
 ],
 "metadata": {
  "kernelspec": {
   "display_name": "Python 3 (ipykernel)",
   "language": "python",
   "name": "python3"
  },
  "language_info": {
   "codemirror_mode": {
    "name": "ipython",
    "version": 3
   },
   "file_extension": ".py",
   "mimetype": "text/x-python",
   "name": "python",
   "nbconvert_exporter": "python",
   "pygments_lexer": "ipython3",
   "version": "3.9.12"
  }
 },
 "nbformat": 4,
 "nbformat_minor": 5
}
