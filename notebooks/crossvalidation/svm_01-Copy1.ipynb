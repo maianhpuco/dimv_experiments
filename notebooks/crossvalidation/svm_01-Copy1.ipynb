{
 "cells": [
  {
   "cell_type": "code",
   "execution_count": 12,
   "id": "81564f1f",
   "metadata": {},
   "outputs": [],
   "source": [
    "import os\n",
    "import sys  \n",
    "import pandas as pd \n",
    "import numpy as np \n",
    "import time\n",
    "\n",
    "from sklearn import svm \n",
    "from sklearn.model_selection import cross_val_score \n",
    "from sklearn.model_selection import KFold\n",
    "from sklearn.model_selection import GridSearchCV\n",
    "from sklearn.pipeline import Pipeline\n",
    "from sklearn import metrics\n",
    "from os.path  import join \n",
    "from array import array \n",
    "from sklearn.svm import LinearSVC, SVC\n",
    "from sklearn.linear_model import SGDClassifier\n",
    "from sklearn.multiclass import OneVsRestClassifier\n",
    " "
   ]
  },
  {
   "cell_type": "code",
   "execution_count": 5,
   "id": "1a29c109",
   "metadata": {},
   "outputs": [],
   "source": [
    "root = \"../../data/mnist/imputed\"\n",
    "experiment_settings = os.listdir(root)"
   ]
  },
  {
   "cell_type": "code",
   "execution_count": null,
   "id": "67edff3f",
   "metadata": {},
   "outputs": [],
   "source": []
  },
  {
   "cell_type": "code",
   "execution_count": 6,
   "id": "6c5baf69",
   "metadata": {},
   "outputs": [
    {
     "name": "stdout",
     "output_type": "stream",
     "text": [
      "threshold_50_deletedWidthHeightPc_5050_noImagePc_50\n",
      "threshold_30_deletedWidthHeightPc_5050_noImagePc_20\n",
      "threshold_30_deletedWidthHeightPc_5050_noImagePc_50\n",
      "threshold_70_deletedWidthHeightPc_5050_noImagePc_20\n",
      "threshold_50_deletedWidthHeightPc_5050_noImagePc_20\n",
      "threshold_50_deletedWidthHeightPc_4040_noImagePc_50\n",
      "threshold_50_deletedWidthHeightPc_8080_noImagePc_50\n",
      "threshold_50_deletedWidthHeightPc_6060_noImagePc_50\n",
      "threshold_30_deletedWidthHeightPc_4040_noImagePc_20\n",
      "threshold_30_deletedWidthHeightPc_8080_noImagePc_20\n",
      "threshold_30_deletedWidthHeightPc_6060_noImagePc_20\n",
      "threshold_30_deletedWidthHeightPc_4040_noImagePc_50\n",
      "threshold_30_deletedWidthHeightPc_8080_noImagePc_50\n",
      "threshold_30_deletedWidthHeightPc_6060_noImagePc_50\n",
      "threshold_50_deletedWidthHeightPc_4040_noImagePc_20\n",
      "threshold_50_deletedWidthHeightPc_8080_noImagePc_20\n",
      "threshold_50_deletedWidthHeightPc_6060_noImagePc_20\n"
     ]
    }
   ],
   "source": [
    "for exp in experiment_settings:\n",
    "    print(exp)"
   ]
  },
  {
   "cell_type": "code",
   "execution_count": 7,
   "id": "a499aaf1",
   "metadata": {},
   "outputs": [
    {
     "data": {
      "text/plain": [
       "['test_softImpute.csv',\n",
       " 'test_impDi.csv',\n",
       " 'train_softImpute.csv',\n",
       " 'train_impDi.csv',\n",
       " 'y_train.csv',\n",
       " 'y_test.csv']"
      ]
     },
     "execution_count": 7,
     "metadata": {},
     "output_type": "execute_result"
    }
   ],
   "source": [
    "os.listdir(os.path.join(root,experiment_settings[0]))"
   ]
  },
  {
   "cell_type": "code",
   "execution_count": 10,
   "id": "42ec1435",
   "metadata": {},
   "outputs": [
    {
     "name": "stdout",
     "output_type": "stream",
     "text": [
      "complete reading imputed file after: 57.712220907211304 second\n"
     ]
    }
   ],
   "source": [
    "sub_folder = 'threshold_30_deletedWidthHeightPc_6060_noImagePc_50'\n",
    "path = os.path.join(root+\"/\"+sub_folder+'/')\n",
    "\n",
    "get_Xpath = lambda train_test, algo: os.path.join(path+'{}_{}.csv'.format(train_test, algo))\n",
    "get_ypath = lambda train_test: os.path.join(path+'y_{}.csv'.format(train_test))\n",
    "\n",
    "softImpute_Xtrain_path = get_Xpath('train','softImpute')\n",
    "softImpute_Xtest_path = get_Xpath('train','softImpute')\n",
    "softImpute_ytrain_path = get_ypath('test')\n",
    "softImpute_ytest_path = get_ypath('test')\n",
    "\n",
    "impDi_Xtrain_path = get_Xpath('train','impDi') \n",
    "impDi_Xtest_path = get_Xpath('test','impDi') \n",
    "impDi_ytrain_path = get_ypath('train')\n",
    "impDi_ytest_path = get_ypath('test')\n",
    "\n",
    "\n",
    "start_reading = time.time()\n",
    "softImpute_Xtrain = pd.read_csv(softImpute_Xtrain_path)\n",
    "softImpute_ytrain = pd.read_csv(softImpute_ytrain_path)\n",
    "softImpute_Xtest = pd.read_csv(softImpute_Xtest_path)\n",
    "softImpute_ytest = pd.read_csv(softImpute_ytest_path)\n",
    "\n",
    "impDi_Xtrain = pd.read_csv(impDi_Xtrain_path)\n",
    "impDi_ytrain = pd.read_csv(impDi_ytrain_path)\n",
    "impDi_Xtest = pd.read_csv(impDi_Xtest_path)\n",
    "impDi_ytest = pd.read_csv(impDi_ytest_path)  \n",
    "\n",
    "print(\"complete reading imputed file after: {} second\".format(time.time()-start_reading))  "
   ]
  },
  {
   "cell_type": "code",
   "execution_count": null,
   "id": "be2314c4",
   "metadata": {},
   "outputs": [],
   "source": [
    "# start_prediction = time.time()\n",
    " \n",
    "# X_train = impDi_Xtrain\n",
    "# y_train = impDi_ytrain.values.ravel() \n",
    "\n",
    "# X_test = impDi_Xtest\n",
    "# y_test = impDi_ytest.values.ravel()  \n",
    "\n",
    "# model = SGDClassifier(loss=\"modified_huber\", n_jobs=-1,max_iter=10000, early_stopping=True)\n",
    "# model.fit(X_train, y_train) \n",
    "# print(\"fitting time: {} mins\".format((time.time() - start_prediction)/60))    \n",
    "# y_pred = model.predict(X_test)\n",
    "# acc = metrics.accuracy_score(y_test, y_pred) \n",
    "# print(\"fitting time: {} mins\".format((time.time() - start_prediction)/60))   \n",
    "# print(acc)"
   ]
  },
  {
   "cell_type": "code",
   "execution_count": null,
   "id": "c35b7228",
   "metadata": {},
   "outputs": [],
   "source": [
    "# start_prediction = time.time()\n",
    " \n",
    "# X_train = impDi_Xtrain\n",
    "# y_train = impDi_ytrain.values.ravel() \n",
    "\n",
    "# X_test = impDi_Xtest\n",
    "# y_test = impDi_ytest.values.ravel()  \n",
    "# best_hyperparams ={'C': 5, 'gamma': 0.01}  \n",
    "# model = svm.SVC(**best_hyperparams)\n",
    "# model.fit(X_train, y_train) \n",
    "# print(\"fitting time: {} mins\".format((time.time() - start_prediction)/60))    \n",
    "\n",
    "# y_pred = model.predict(X_test)\n",
    "# acc = metrics.accuracy_score(y_test, y_pred) \n",
    "# print(\"fitting time: {} mins\".format((time.time() - start_prediction)/60))  \n",
    "# print(acc)"
   ]
  },
  {
   "cell_type": "markdown",
   "id": "6226f0b5",
   "metadata": {},
   "source": [
    "# using parallel SVC "
   ]
  },
  {
   "cell_type": "code",
   "execution_count": null,
   "id": "8e7ecd7e",
   "metadata": {},
   "outputs": [],
   "source": [
    "start_prediction = time.time()\n",
    " \n",
    "X_train = impDi_Xtrain\n",
    "y_train = impDi_ytrain.values.ravel() \n",
    "\n",
    "X_test = impDi_Xtest\n",
    "y_test = impDi_ytest.values.ravel()  \n",
    "\n",
    "# model = LinearSVC(dual=False, max_iter=5000) \n",
    "model = OneVsRestClassifier(SVC(kernel='linear', probability=True), n_jobs=-1)\n",
    " \n",
    "model.fit(X_train, y_train) \n",
    "y_pred = model.predict(X_test)\n",
    "model.coef_\n",
    "model.intercept_ \n",
    "acc = metrics.accuracy_score(y_test, y_pred) \n",
    "print(\"fitting time: {} mins\".format((time.time() - start_prediction)/60))\n",
    "print(acc) "
   ]
  },
  {
   "cell_type": "code",
   "execution_count": null,
   "id": "bbf3ffd7",
   "metadata": {},
   "outputs": [],
   "source": [
    "# start_prediction = time.time()\n",
    " \n",
    "# X_train = impDi_Xtrain\n",
    "# y_train = impDi_ytrain.values.ravel() \n",
    "\n",
    "# X_test = impDi_Xtest\n",
    "# y_test = impDi_ytest.values.ravel()  \n",
    "\n",
    "# model = LinearSVC(dual=False, max_iter=5000) \n",
    "# model.fit(X_train, y_train) \n",
    "# y_pred = model.predict(X_test)\n",
    "# model.coef_\n",
    "# model.intercept_ \n",
    "# acc = metrics.accuracy_score(y_test, y_pred) \n",
    "# print(\"fitting time: {} mins\".format((time.time() - start_prediction)/60))\n",
    "# print(acc)"
   ]
  },
  {
   "cell_type": "code",
   "execution_count": null,
   "id": "9eaac4d2",
   "metadata": {},
   "outputs": [],
   "source": []
  }
 ],
 "metadata": {
  "kernelspec": {
   "display_name": "Python 3 (ipykernel)",
   "language": "python",
   "name": "python3"
  },
  "language_info": {
   "codemirror_mode": {
    "name": "ipython",
    "version": 3
   },
   "file_extension": ".py",
   "mimetype": "text/x-python",
   "name": "python",
   "nbconvert_exporter": "python",
   "pygments_lexer": "ipython3",
   "version": "3.9.12"
  }
 },
 "nbformat": 4,
 "nbformat_minor": 5
}
